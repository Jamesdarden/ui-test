{
 "cells": [
  {
   "cell_type": "code",
   "execution_count": 9,
   "metadata": {},
   "outputs": [],
   "source": [
    "from PIL import Image\n",
    "\n",
    "\n",
    "# im = Image.open(r'./images/dashboard.PNG')\n",
    "im = Image.open(r'./test_images/fullscreen image.PNG')\n",
    "\n",
    "box = (0, 0 ,1018, 669)\n",
    "cropped_image = im.crop(box= box)\n",
    "\n",
    "cropped_image.save('test_crop.png')\n",
    "\n",
    "## croped image tupil (0 0 1018 669)  w and h\n",
    "\n",
    "## full image is (0\t0\t1600\t900)\n",
    "\n",
    "\n",
    "\n",
    "\n"
   ]
  },
  {
   "cell_type": "code",
   "execution_count": null,
   "metadata": {},
   "outputs": [],
   "source": [
    "import pywinauto\n",
    "import PIL\n",
    "\n",
    "app = pywinauto.application.Application(backend='uia').start('C:\\Program Files (x86)\\PCMatic\\pc matic\\pcmatic.exe').connect(title=\"PC Matic\", timeout=5)\n",
    "\n",
    "\n",
    "print(app.client_rect())\n",
    "# pcmatic_window_size = app.PCMatic.client_rect()\n",
    "# pcmatic = app.PCMatic\n",
    "\n",
    "# theBody = app.PCMatic.child_window(title=\"PC Matic\", auto_id=\"thebody\", control_type=\"Pane\")\n",
    "\n",
    "# thebody_rect = theBody.client_rect()\n",
    "\n",
    "# print(thebody_rect)\n",
    "\n",
    "# # theBody.print_control_identifiers()\n",
    "\n",
    "\n"
   ]
  },
  {
   "cell_type": "code",
   "execution_count": null,
   "metadata": {},
   "outputs": [],
   "source": [
    "from pywinauto import Application\n",
    "\n",
    "\n",
    "app = Application(backend='uia').start('explorer ms-screenclip:').connect(title=\"explorer ms-screenclip:\", timeout=5)\n",
    "\n",
    "app.print_control_identifiers()"
   ]
  },
  {
   "cell_type": "code",
   "execution_count": 33,
   "metadata": {},
   "outputs": [
    {
     "name": "stdout",
     "output_type": "stream",
     "text": [
      "Help on function locateCenterOnScreen in module pyautogui:\n",
      "\n",
      "locateCenterOnScreen(*args, **kwargs)\n",
      "    TODO\n",
      "\n"
     ]
    }
   ],
   "source": [
    "import pyautogui\n",
    "\n",
    "\n",
    "help(pyautogui.locateCenterOnScreen)\n",
    "\n",
    "\n",
    "# win32gui.SetForegroundWindow(hwnd)\n",
    "# bbox = win32gui.GetWindowRect(hwnd)\n",
    "# img = ImageGrab.grab(bbox)\n",
    "# img.show()"
   ]
  },
  {
   "cell_type": "code",
   "execution_count": 23,
   "metadata": {},
   "outputs": [
    {
     "name": "stdout",
     "output_type": "stream",
     "text": [
      "Help on function top_window in module pywinauto.application:\n",
      "\n",
      "top_window(self)\n",
      "    Return WindowSpecification for a current top window of the application\n",
      "\n"
     ]
    }
   ],
   "source": [
    "import pywinauto \n",
    "help(pywinauto.application.Application.top_window)"
   ]
  },
  {
   "cell_type": "code",
   "execution_count": null,
   "metadata": {},
   "outputs": [],
   "source": [
    "import pyautogui\n",
    "import cv2\n",
    "from PIL import Image\n",
    "import numpy as np\n",
    "\n",
    "# Locate the image on the screen\n",
    "location = pyautogui.locateOnScreen('reference_image.png')\n",
    "\n",
    "# Take a screenshot of the image location\n",
    "screenshot = pyautogui.screenshot(region=location)\n",
    "\n",
    "# Convert the screenshot to a numpy array for comparison\n",
    "screenshot_np = np.array(screenshot)\n",
    "\n",
    "# Read in the reference image as a numpy array\n",
    "reference_image = cv2.imread('reference_image.png')\n",
    "\n",
    "# Compare the reference image and the screenshot\n",
    "if np.array_equal(screenshot_np, reference_image):\n",
    "\tprint(True)\n",
    "else:\n",
    "\tprint(False)"
   ]
  }
 ],
 "metadata": {
  "kernelspec": {
   "display_name": "venv",
   "language": "python",
   "name": "python3"
  },
  "language_info": {
   "codemirror_mode": {
    "name": "ipython",
    "version": 3
   },
   "file_extension": ".py",
   "mimetype": "text/x-python",
   "name": "python",
   "nbconvert_exporter": "python",
   "pygments_lexer": "ipython3",
   "version": "3.10.10"
  },
  "orig_nbformat": 4,
  "vscode": {
   "interpreter": {
    "hash": "c84b4958c4f95b0b00e8b667b268f68846d02a34daaa6b36eb8dee640ee76f12"
   }
  }
 },
 "nbformat": 4,
 "nbformat_minor": 2
}
